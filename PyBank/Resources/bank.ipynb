{
 "cells": [
  {
   "cell_type": "code",
   "execution_count": 1,
   "metadata": {},
   "outputs": [],
   "source": [
    "import os\n",
    "import csv"
   ]
  },
  {
   "cell_type": "code",
   "execution_count": 15,
   "metadata": {},
   "outputs": [],
   "source": [
    "bank_csv=os.path.join(\"..\",\"Resources\",\"budget_data.csv\")\n"
   ]
  },
  {
   "cell_type": "code",
   "execution_count": 18,
   "metadata": {},
   "outputs": [
    {
     "name": "stdout",
     "output_type": "stream",
     "text": [
      "{'Date': 'Jan-10', 'Profit/Losses': '1088983'}\n",
      "{'Date': 'Feb-10', 'Profit/Losses': '-354534'}\n",
      "{'Date': 'Mar-10', 'Profit/Losses': '276622'}\n",
      "{'Date': 'Apr-10', 'Profit/Losses': '-728133'}\n",
      "{'Date': 'May-10', 'Profit/Losses': '852993'}\n",
      "{'Date': 'Jun-10', 'Profit/Losses': '563721'}\n",
      "{'Date': 'Jul-10', 'Profit/Losses': '-535208'}\n",
      "{'Date': 'Aug-10', 'Profit/Losses': '632349'}\n",
      "{'Date': 'Sep-10', 'Profit/Losses': '-173744'}\n",
      "{'Date': 'Oct-10', 'Profit/Losses': '950741'}\n",
      "{'Date': 'Nov-10', 'Profit/Losses': '-785750'}\n",
      "{'Date': 'Dec-10', 'Profit/Losses': '-1194133'}\n",
      "{'Date': 'Jan-11', 'Profit/Losses': '-589576'}\n",
      "{'Date': 'Feb-11', 'Profit/Losses': '-883921'}\n",
      "{'Date': 'Mar-11', 'Profit/Losses': '443564'}\n",
      "{'Date': 'Apr-11', 'Profit/Losses': '837887'}\n",
      "{'Date': 'May-11', 'Profit/Losses': '1081472'}\n",
      "{'Date': 'Jun-11', 'Profit/Losses': '464033'}\n",
      "{'Date': 'Jul-11', 'Profit/Losses': '-1066544'}\n",
      "{'Date': 'Aug-11', 'Profit/Losses': '323846'}\n",
      "{'Date': 'Sep-11', 'Profit/Losses': '-806551'}\n",
      "{'Date': 'Oct-11', 'Profit/Losses': '487053'}\n",
      "{'Date': 'Nov-11', 'Profit/Losses': '1128811'}\n",
      "{'Date': 'Dec-11', 'Profit/Losses': '791398'}\n",
      "{'Date': 'Jan-12', 'Profit/Losses': '739367'}\n",
      "{'Date': 'Feb-12', 'Profit/Losses': '-197825'}\n",
      "{'Date': 'Mar-12', 'Profit/Losses': '666016'}\n",
      "{'Date': 'Apr-12', 'Profit/Losses': '589771'}\n",
      "{'Date': 'May-12', 'Profit/Losses': '489290'}\n",
      "{'Date': 'Jun-12', 'Profit/Losses': '-471439'}\n",
      "{'Date': 'Jul-12', 'Profit/Losses': '120417'}\n",
      "{'Date': 'Aug-12', 'Profit/Losses': '175347'}\n",
      "{'Date': 'Sep-12', 'Profit/Losses': '855449'}\n",
      "{'Date': 'Oct-12', 'Profit/Losses': '605195'}\n",
      "{'Date': 'Nov-12', 'Profit/Losses': '-235220'}\n",
      "{'Date': 'Dec-12', 'Profit/Losses': '347138'}\n",
      "{'Date': 'Jan-13', 'Profit/Losses': '298510'}\n",
      "{'Date': 'Feb-13', 'Profit/Losses': '163254'}\n",
      "{'Date': 'Mar-13', 'Profit/Losses': '1141840'}\n",
      "{'Date': 'Apr-13', 'Profit/Losses': '542630'}\n",
      "{'Date': 'May-13', 'Profit/Losses': '99841'}\n",
      "{'Date': 'Jun-13', 'Profit/Losses': '752765'}\n",
      "{'Date': 'Jul-13', 'Profit/Losses': '-252949'}\n",
      "{'Date': 'Aug-13', 'Profit/Losses': '914424'}\n",
      "{'Date': 'Sep-13', 'Profit/Losses': '679524'}\n",
      "{'Date': 'Oct-13', 'Profit/Losses': '514377'}\n",
      "{'Date': 'Nov-13', 'Profit/Losses': '462102'}\n",
      "{'Date': 'Dec-13', 'Profit/Losses': '159782'}\n",
      "{'Date': 'Jan-14', 'Profit/Losses': '878810'}\n",
      "{'Date': 'Feb-14', 'Profit/Losses': '-946748'}\n",
      "{'Date': 'Mar-14', 'Profit/Losses': '340335'}\n",
      "{'Date': 'Apr-14', 'Profit/Losses': '292032'}\n",
      "{'Date': 'May-14', 'Profit/Losses': '502266'}\n",
      "{'Date': 'Jun-14', 'Profit/Losses': '265852'}\n",
      "{'Date': 'Jul-14', 'Profit/Losses': '851017'}\n",
      "{'Date': 'Aug-14', 'Profit/Losses': '-549615'}\n",
      "{'Date': 'Sep-14', 'Profit/Losses': '290162'}\n",
      "{'Date': 'Oct-14', 'Profit/Losses': '755391'}\n",
      "{'Date': 'Nov-14', 'Profit/Losses': '1073202'}\n",
      "{'Date': 'Dec-14', 'Profit/Losses': '313000'}\n",
      "{'Date': 'Jan-15', 'Profit/Losses': '241132'}\n",
      "{'Date': 'Feb-15', 'Profit/Losses': '1036589'}\n",
      "{'Date': 'Mar-15', 'Profit/Losses': '853904'}\n",
      "{'Date': 'Apr-15', 'Profit/Losses': '-388932'}\n",
      "{'Date': 'May-15', 'Profit/Losses': '982952'}\n",
      "{'Date': 'Jun-15', 'Profit/Losses': '537759'}\n",
      "{'Date': 'Jul-15', 'Profit/Losses': '547784'}\n",
      "{'Date': 'Aug-15', 'Profit/Losses': '-496214'}\n",
      "{'Date': 'Sep-15', 'Profit/Losses': '854181'}\n",
      "{'Date': 'Oct-15', 'Profit/Losses': '934719'}\n",
      "{'Date': 'Nov-15', 'Profit/Losses': '-288531'}\n",
      "{'Date': 'Dec-15', 'Profit/Losses': '-184383'}\n",
      "{'Date': 'Jan-16', 'Profit/Losses': '659541'}\n",
      "{'Date': 'Feb-16', 'Profit/Losses': '-1149123'}\n",
      "{'Date': 'Mar-16', 'Profit/Losses': '355882'}\n",
      "{'Date': 'Apr-16', 'Profit/Losses': '662284'}\n",
      "{'Date': 'May-16', 'Profit/Losses': '518681'}\n",
      "{'Date': 'Jun-16', 'Profit/Losses': '-748256'}\n",
      "{'Date': 'Jul-16', 'Profit/Losses': '-910775'}\n",
      "{'Date': 'Aug-16', 'Profit/Losses': '951227'}\n",
      "{'Date': 'Sep-16', 'Profit/Losses': '898241'}\n",
      "{'Date': 'Oct-16', 'Profit/Losses': '-729004'}\n",
      "{'Date': 'Nov-16', 'Profit/Losses': '-112209'}\n",
      "{'Date': 'Dec-16', 'Profit/Losses': '516313'}\n",
      "{'Date': 'Jan-17', 'Profit/Losses': '607208'}\n",
      "{'Date': 'Feb-17', 'Profit/Losses': '382539'}\n"
     ]
    }
   ],
   "source": [
    "with open(bank_csv) as csvfile:\n",
    "    reader=csv.DictReader(csvfile)\n",
    "\n",
    "    #bank_header=next(csvfile)\n",
    "\n",
    "    for row in reader:\n",
    "        print(row)"
   ]
  }
 ],
 "metadata": {
  "kernelspec": {
   "display_name": "base",
   "language": "python",
   "name": "python3"
  },
  "language_info": {
   "codemirror_mode": {
    "name": "ipython",
    "version": 3
   },
   "file_extension": ".py",
   "mimetype": "text/x-python",
   "name": "python",
   "nbconvert_exporter": "python",
   "pygments_lexer": "ipython3",
   "version": "3.10.9"
  },
  "orig_nbformat": 4
 },
 "nbformat": 4,
 "nbformat_minor": 2
}
