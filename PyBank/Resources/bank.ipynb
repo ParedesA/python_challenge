{
 "cells": [
  {
   "cell_type": "code",
   "execution_count": 2,
   "metadata": {},
   "outputs": [],
   "source": [
    "import os\n",
    "import csv"
   ]
  },
  {
   "cell_type": "code",
   "execution_count": 3,
   "metadata": {},
   "outputs": [],
   "source": [
    "bank_csv=os.path.join(\"..\",\"Resources\",\"budget_data.csv\")\n"
   ]
  },
  {
   "cell_type": "code",
   "execution_count": 9,
   "metadata": {},
   "outputs": [
    {
     "ename": "AttributeError",
     "evalue": "'DictReader' object has no attribute 'values'",
     "output_type": "error",
     "traceback": [
      "\u001b[1;31m---------------------------------------------------------------------------\u001b[0m",
      "\u001b[1;31mAttributeError\u001b[0m                            Traceback (most recent call last)",
      "Cell \u001b[1;32mIn[9], line 8\u001b[0m\n\u001b[0;32m      4\u001b[0m bank_header\u001b[39m=\u001b[39m\u001b[39mnext\u001b[39m(reader)\n\u001b[0;32m      6\u001b[0m \u001b[39m#create an empty month list to append values and print len\u001b[39;00m\n\u001b[1;32m----> 8\u001b[0m total\u001b[39m=\u001b[39m\u001b[39msum\u001b[39m(reader\u001b[39m.\u001b[39;49mvalues())\n\u001b[0;32m      9\u001b[0m \u001b[39mprint\u001b[39m({total})\n",
      "\u001b[1;31mAttributeError\u001b[0m: 'DictReader' object has no attribute 'values'"
     ]
    }
   ],
   "source": [
    "with open(bank_csv) as csvfile:\n",
    "    #reader=csv.reader(csvfile,delimiter=\",\")\n",
    "    reader=csv.DictReader(csvfile)\n",
    "    bank_header=next(reader)\n",
    "\n",
    "    #create an empty month list to append values and print len\n",
    "   \n",
    "    total=sum(values())\n",
    "    print({total})\n",
    "    #for row in reader:\n",
    "    #    print(row.values())\n",
    "\n",
    "    # print(\"Financial Analysis\\n\\n--------------------\\n\")\n",
    "\n",
    "    # total_month=sum(1 for row in csvfile)\n",
    "    # print(f\"Total Months: {total_month}\\n\")\n",
    "\n"
   ]
  },
  {
   "cell_type": "code",
   "execution_count": null,
   "metadata": {},
   "outputs": [],
   "source": []
  }
 ],
 "metadata": {
  "kernelspec": {
   "display_name": "base",
   "language": "python",
   "name": "python3"
  },
  "language_info": {
   "codemirror_mode": {
    "name": "ipython",
    "version": 3
   },
   "file_extension": ".py",
   "mimetype": "text/x-python",
   "name": "python",
   "nbconvert_exporter": "python",
   "pygments_lexer": "ipython3",
   "version": "3.10.9"
  },
  "orig_nbformat": 4
 },
 "nbformat": 4,
 "nbformat_minor": 2
}
